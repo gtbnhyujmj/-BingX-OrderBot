{
  "nbformat": 4,
  "nbformat_minor": 0,
  "metadata": {
    "colab": {
      "provenance": [],
      "authorship_tag": "ABX9TyP7OBw5LcCVkXkJ1JtRnTc/",
      "include_colab_link": true
    },
    "kernelspec": {
      "name": "python3",
      "display_name": "Python 3"
    },
    "language_info": {
      "name": "python"
    }
  },
  "cells": [
    {
      "cell_type": "markdown",
      "metadata": {
        "id": "view-in-github",
        "colab_type": "text"
      },
      "source": [
        "<a href=\"https://colab.research.google.com/github/gtbnhyujmj/BingX_Auto_Order/blob/main/BX_Open_Order.ipynb\" target=\"_parent\"><img src=\"https://colab.research.google.com/assets/colab-badge.svg\" alt=\"Open In Colab\"/></a>"
      ]
    },
    {
      "cell_type": "markdown",
      "source": [
        "# 導入套件"
      ],
      "metadata": {
        "id": "N0tC9Wv9-47e"
      }
    },
    {
      "cell_type": "code",
      "execution_count": null,
      "metadata": {
        "id": "HXcCO0Cgw6lt"
      },
      "outputs": [],
      "source": [
        "import time\n",
        "import requests\n",
        "import hmac\n",
        "from hashlib import sha256"
      ]
    },
    {
      "cell_type": "markdown",
      "source": [
        "# 金鑰設定"
      ],
      "metadata": {
        "id": "kxqvsYrT_BIO"
      }
    },
    {
      "cell_type": "code",
      "source": [
        "# API 端點和金鑰設定\n",
        "\n",
        "APIURL = \"https://open-api.bingx.com\"\n",
        "\n",
        "# 請自行替換\n",
        "APIKEY = \"\"\n",
        "SECRETKEY = \"\""
      ],
      "metadata": {
        "id": "n3ZfAOjFxBlb"
      },
      "execution_count": null,
      "outputs": []
    },
    {
      "cell_type": "markdown",
      "source": [
        "# 程式"
      ],
      "metadata": {
        "id": "XB6_3DoB_R49"
      }
    },
    {
      "cell_type": "code",
      "source": [
        "def demo():\n",
        "    # 下單參數\n",
        "    positionSide = \"BOTH\"\n",
        "    quantity = \"0.0001\"\n",
        "    side = \"BUY\"\n",
        "    symbol = \"BTC-USDT\"\n",
        "    type_ = \"MARKET\"\n",
        "    timestamp = str(int(time.time() * 1000))\n",
        "\n",
        "    # 將參數用字串方式串接（注意順序）\n",
        "    params = \"positionSide=\" + positionSide\n",
        "    params += \"&quantity=\" + quantity\n",
        "    params += \"&side=\" + side\n",
        "    params += \"&symbol=\" + symbol\n",
        "    params += \"&type=\" + type_\n",
        "    params += \"&timestamp=\" + timestamp\n",
        "\n",
        "    # 發送請求\n",
        "    return send_request(\"POST\", \"/openApi/swap/v2/trade/order\", params, params, {})"
      ],
      "metadata": {
        "id": "p3c7HpXfxK7i"
      },
      "execution_count": null,
      "outputs": []
    },
    {
      "cell_type": "code",
      "source": [
        "# 用來計算簽名\n",
        "def get_sign(secret, payload):\n",
        "    key = secret.encode(\"utf-8\")\n",
        "    msg = payload.encode(\"utf-8\")\n",
        "    h = hmac.new(key, msg, sha256)\n",
        "    signature = h.hexdigest()\n",
        "    print(\"簽名：\", signature)\n",
        "    return signature"
      ],
      "metadata": {
        "id": "FDOZP6SmxPGa"
      },
      "execution_count": null,
      "outputs": []
    },
    {
      "cell_type": "code",
      "source": [
        "# 發送請求給 BingX\n",
        "def send_request(method, path, sign_payload, url_payload, body):\n",
        "    sign = get_sign(SECRETKEY, sign_payload)\n",
        "    full_url = APIURL + path + \"?\" + url_payload + \"&signature=\" + sign\n",
        "    print(\"請求網址：\", full_url)\n",
        "\n",
        "    headers = {\n",
        "        \"X-BX-APIKEY\": APIKEY\n",
        "    }\n",
        "\n",
        "    response = requests.request(method, full_url, headers=headers, data=body)\n",
        "    return response.text"
      ],
      "metadata": {
        "id": "jdY0tQW-xRsa"
      },
      "execution_count": null,
      "outputs": []
    },
    {
      "cell_type": "markdown",
      "source": [
        "# 執行"
      ],
      "metadata": {
        "id": "nhikPjoM_azW"
      }
    },
    {
      "cell_type": "code",
      "source": [
        "if __name__ == \"__main__\":\n",
        "    result = demo()\n",
        "    print(\"回應結果：\", result)"
      ],
      "metadata": {
        "colab": {
          "base_uri": "https://localhost:8080/"
        },
        "id": "6nGDD90lxThz",
        "outputId": "38d68f9f-89c1-4fec-9ff9-6c4f2cf0cf26"
      },
      "execution_count": null,
      "outputs": [
        {
          "output_type": "stream",
          "name": "stdout",
          "text": [
            "簽名： b29319051e609888907c265f925f5fc26aedae6e6dcdd9a856eef83c840013ec\n",
            "請求網址： https://open-api.bingx.com/openApi/swap/v2/trade/order?positionSide=BOTH&quantity=0.0001&side=BUY&symbol=BTC-USDT&type=MARKET&timestamp=1747444732577&signature=b29319051e609888907c265f925f5fc26aedae6e6dcdd9a856eef83c840013ec\n",
            "回應結果： {\"code\":0,\"msg\":\"\",\"data\":{\"order\":{\"orderId\":1923548743676727296,\"orderID\":\"1923548743676727296\",\"symbol\":\"BTC-USDT\",\"positionSide\":\"BOTH\",\"side\":\"BUY\",\"type\":\"MARKET\",\"price\":0,\"quantity\":0.0001,\"stopPrice\":0,\"workingType\":\"MARK_PRICE\",\"clientOrderID\":\"\",\"clientOrderId\":\"\",\"timeInForce\":\"GTC\",\"priceRate\":0,\"stopLoss\":\"\",\"takeProfit\":\"\",\"reduceOnly\":false,\"activationPrice\":0,\"closePosition\":\"\",\"stopGuaranteed\":\"\",\"status\":\"FILLED\",\"avgPrice\":\"102893.3\"}}}\n"
          ]
        }
      ]
    },
    {
      "cell_type": "markdown",
      "source": [
        "# 下次要做啥?"
      ],
      "metadata": {
        "id": "moagq3bO_dIV"
      }
    },
    {
      "cell_type": "code",
      "source": [
        "# V1 V2 V3 整合"
      ],
      "metadata": {
        "id": "CVYeOzaw_e1l"
      },
      "execution_count": null,
      "outputs": []
    },
    {
      "cell_type": "code",
      "source": [
        "# STU 25/05/21"
      ],
      "metadata": {
        "id": "V6KWyYfi_jM9"
      },
      "execution_count": null,
      "outputs": []
    }
  ]
}
