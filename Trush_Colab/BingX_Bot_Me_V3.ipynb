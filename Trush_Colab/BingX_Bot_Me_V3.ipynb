{
  "nbformat": 4,
  "nbformat_minor": 0,
  "metadata": {
    "colab": {
      "provenance": [],
      "authorship_tag": "ABX9TyP0QhCRtE2So3SiBRgIo/yE",
      "include_colab_link": true
    },
    "kernelspec": {
      "name": "python3",
      "display_name": "Python 3"
    },
    "language_info": {
      "name": "python"
    }
  },
  "cells": [
    {
      "cell_type": "markdown",
      "metadata": {
        "id": "view-in-github",
        "colab_type": "text"
      },
      "source": [
        "<a href=\"https://colab.research.google.com/github/gtbnhyujmj/BingX_Auto_Order/blob/main/BingX_Bot_Me_V3.ipynb\" target=\"_parent\"><img src=\"https://colab.research.google.com/assets/colab-badge.svg\" alt=\"Open In Colab\"/></a>"
      ]
    },
    {
      "cell_type": "code",
      "execution_count": null,
      "metadata": {
        "collapsed": true,
        "id": "F4uxl9vhTlBC"
      },
      "outputs": [],
      "source": [
        "# pip install requests"
      ]
    },
    {
      "cell_type": "code",
      "source": [
        "import time                # 引入時間模組，用來取得現在時間\n",
        "import requests              # 引入requests模組，讓我們可以發送網路請求\n",
        "import hmac                # 引入hmac模組，幫忙做簽名加密\n",
        "from hashlib import sha256        # 引入sha256加密演算法"
      ],
      "metadata": {
        "id": "XRj7h5OPTrX8"
      },
      "execution_count": null,
      "outputs": []
    },
    {
      "cell_type": "markdown",
      "source": [
        "# 網址中間有個V3"
      ],
      "metadata": {
        "id": "9WjpWkZgDqT8"
      }
    },
    {
      "cell_type": "code",
      "source": [
        "def demo():\n",
        "    # 這個函式示範怎麼叫API查帳戶餘額\n",
        "    path = 'https://open-api.bingx.com/openApi/swap/v3/user/balance'      # API的路徑 V3\n",
        "    method = \"GET\"                               # 用GET方法請求資料\n",
        "\n",
        "    # A = params[\"recvWindow\"]\n",
        "    # B = params[\"timestamp\"]\n",
        "\n",
        "    # params_str = \"recvWindow=\" + A + \"&\" + \"timestamp=\" + B   # 把字典格式的參數變成字串\n",
        "\n",
        "    return method, path, # params_str  # 呼叫發送請求的函式，並回傳結果\n",
        "\n",
        "method, path = demo()\n",
        "demo()"
      ],
      "metadata": {
        "colab": {
          "base_uri": "https://localhost:8080/"
        },
        "id": "_0hRyzh5Ttuk",
        "outputId": "102644a6-7028-4272-90d6-a259a1d03e78"
      },
      "execution_count": null,
      "outputs": [
        {
          "output_type": "execute_result",
          "data": {
            "text/plain": [
              "('GET', 'https://open-api.bingx.com/openApi/swap/v3/user/balance')"
            ]
          },
          "metadata": {},
          "execution_count": 44
        }
      ]
    },
    {
      "cell_type": "markdown",
      "source": [
        "# Params 寫在這"
      ],
      "metadata": {
        "id": "n-w4rS5ZED7M"
      }
    },
    {
      "cell_type": "code",
      "source": [
        "params = {\n",
        "        \"recvWindow\": \"60000\",                    # 允許的請求時間誤差，60秒（毫秒）\n",
        "        \"timestamp\": str(int(time.time() * 1000))          # 現在時間戳記（毫秒），用來驗證請求有效\n",
        "    }"
      ],
      "metadata": {
        "id": "GXmyL4ffEGo0"
      },
      "execution_count": null,
      "outputs": []
    },
    {
      "cell_type": "markdown",
      "source": [
        "# 把Params排序好，符合BX的要求"
      ],
      "metadata": {
        "id": "k5daRbklEK6L"
      }
    },
    {
      "cell_type": "code",
      "source": [
        "def format_params(params):\n",
        "    # >>> 這個函式把參數排好序，然後組成a=1&b=2這樣的字串\n",
        "\n",
        "    keys = sorted(params.keys())  # 把參數的鍵排序\n",
        "\n",
        "    # 建立一個空清單準備放字串\n",
        "    param_list = []\n",
        "\n",
        "    for key in keys:\n",
        "        param_list.append(key + \"=\" + params[key]) # 這裡用簡單字串串接，把key跟value串成 \"key=value\" 的形式\n",
        "\n",
        "    return \"&\".join(param_list) # 用 & 把所有參數連起來\n",
        "\n",
        "final_paramas = format_params(params)\n",
        "format_params(params)  ## 這個就是網頁上的 params_str = 把參數排好序，然後組成a=1&b=2這樣的字串"
      ],
      "metadata": {
        "colab": {
          "base_uri": "https://localhost:8080/",
          "height": 35
        },
        "id": "mLXpaxNXTwIE",
        "outputId": "14f62b3a-2c51-47ee-dcaf-a3e94627b28a"
      },
      "execution_count": null,
      "outputs": [
        {
          "output_type": "execute_result",
          "data": {
            "text/plain": [
              "'recvWindow=60000&timestamp=1747285340222'"
            ],
            "application/vnd.google.colaboratory.intrinsic+json": {
              "type": "string"
            }
          },
          "metadata": {},
          "execution_count": 45
        }
      ]
    },
    {
      "cell_type": "markdown",
      "source": [
        "# 密鑰"
      ],
      "metadata": {
        "id": "A5o1sUKjEj3s"
      }
    },
    {
      "cell_type": "code",
      "source": [
        "SECRETKEY = \"\""
      ],
      "metadata": {
        "id": "7jlgiQNgElML"
      },
      "execution_count": null,
      "outputs": []
    },
    {
      "cell_type": "markdown",
      "source": [
        "# 建立簽證"
      ],
      "metadata": {
        "id": "klOIPogxEqak"
      }
    },
    {
      "cell_type": "code",
      "source": [
        "def get_signature(secret, message): # message = 上面處理好的字串  # 這裡用HMAC-SHA256演算法，根據密鑰跟參數字串做簽名\n",
        "    sign = hmac.new(secret.encode(), message.encode(), sha256).hexdigest()\n",
        "\n",
        "    # print(\"簽名:\", sign)      # 印出簽名結果方便檢查\n",
        "    return sign           # 回傳簽名字串\n",
        "\n",
        "sign = get_signature(SECRETKEY, final_paramas)\n",
        "get_signature(SECRETKEY, final_paramas)\n",
        "# print(\"簽名:\", get_signature)"
      ],
      "metadata": {
        "colab": {
          "base_uri": "https://localhost:8080/",
          "height": 35
        },
        "id": "2acSaowETxvE",
        "outputId": "dce515d1-b9cf-4388-a32b-fcf74c0c0b40"
      },
      "execution_count": null,
      "outputs": [
        {
          "output_type": "execute_result",
          "data": {
            "text/plain": [
              "'c5031cacafc9bf3b60819f6e6a126f7a4f4e5b92971eb9c8a5cb7ca30981347b'"
            ],
            "application/vnd.google.colaboratory.intrinsic+json": {
              "type": "string"
            }
          },
          "metadata": {},
          "execution_count": 46
        }
      ]
    },
    {
      "cell_type": "markdown",
      "source": [
        "# 組合網址"
      ],
      "metadata": {
        "id": "PvR_r0k2E0hJ"
      }
    },
    {
      "cell_type": "code",
      "source": [
        "# 把完整網址組合起來（字串串接方式）\n",
        "url = path + \"?\" + final_paramas + \"&signature=\" + sign\n",
        "\n",
        "# url"
      ],
      "metadata": {
        "colab": {
          "base_uri": "https://localhost:8080/",
          "height": 35
        },
        "id": "vzrPkP1dTzU0",
        "outputId": "7b97aeee-8fe3-4ec5-86cd-b26897a6d554"
      },
      "execution_count": null,
      "outputs": [
        {
          "output_type": "execute_result",
          "data": {
            "text/plain": [
              "'https://open-api.bingx.com/openApi/swap/v3/user/balance?recvWindow=60000&timestamp=1747285340222&signature=c5031cacafc9bf3b60819f6e6a126f7a4f4e5b92971eb9c8a5cb7ca30981347b'"
            ],
            "application/vnd.google.colaboratory.intrinsic+json": {
              "type": "string"
            }
          },
          "metadata": {},
          "execution_count": 47
        }
      ]
    },
    {
      "cell_type": "markdown",
      "source": [
        "# 建立指定的headers"
      ],
      "metadata": {
        "id": "eu3LLyBgE3oL"
      }
    },
    {
      "cell_type": "code",
      "source": [
        "# 設定HTTP請求的標頭，把APIKEY放進去\n",
        "\n",
        "# 輸入你的公鑰\n",
        "APIKEY = \"\"\n",
        "\n",
        "headers = {\n",
        "        'X-BX-APIKEY': APIKEY\n",
        "    }"
      ],
      "metadata": {
        "id": "i4Gho1gWT0sL"
      },
      "execution_count": null,
      "outputs": []
    },
    {
      "cell_type": "markdown",
      "source": [
        "# 發送與接收"
      ],
      "metadata": {
        "id": "wb_ZFd2ZE7hz"
      }
    },
    {
      "cell_type": "code",
      "source": [
        "# 用requests送出HTTP請求\n",
        "# method = GET, 函數上面有\n",
        "\n",
        "response = requests.request(method, url, headers=headers)\n",
        "response.status_code"
      ],
      "metadata": {
        "colab": {
          "base_uri": "https://localhost:8080/"
        },
        "id": "ffpHF5iYT2Qs",
        "outputId": "fdb6f2aa-8c27-4129-f844-6e94d381d065"
      },
      "execution_count": null,
      "outputs": [
        {
          "output_type": "execute_result",
          "data": {
            "text/plain": [
              "200"
            ]
          },
          "metadata": {},
          "execution_count": 49
        }
      ]
    },
    {
      "cell_type": "markdown",
      "source": [
        "# 列印JSON"
      ],
      "metadata": {
        "id": "yoZeFG6aE-DF"
      }
    },
    {
      "cell_type": "code",
      "source": [
        "response = requests.request(method, url, headers=headers)\n",
        "response.text"
      ],
      "metadata": {
        "colab": {
          "base_uri": "https://localhost:8080/",
          "height": 70
        },
        "id": "05Gr6J-MT3js",
        "outputId": "f246bdd5-fbf9-4700-b53d-7b887d00a02f"
      },
      "execution_count": null,
      "outputs": [
        {
          "output_type": "execute_result",
          "data": {
            "text/plain": [
              "'{\"code\":0,\"msg\":\"\",\"data\":[{\"userId\":\"1049889271413661698\",\"asset\":\"USDT\",\"balance\":\"0.1568\",\"equity\":\"0.1568\",\"unrealizedProfit\":\"0.0000\",\"realisedProfit\":\"0\",\"availableMargin\":\"0.1568\",\"usedMargin\":\"0.0000\",\"freezedMargin\":\"0.0000\",\"shortUid\":\"8883392\"},{\"userId\":\"1049889271413661698\",\"asset\":\"USDC\",\"balance\":\"0.0003\",\"equity\":\"0.0003\",\"unrealizedProfit\":\"0.0000\",\"realisedProfit\":\"0\",\"availableMargin\":\"0.0003\",\"usedMargin\":\"0.0000\",\"freezedMargin\":\"0.0000\",\"shortUid\":\"8883392\"}]}'"
            ],
            "application/vnd.google.colaboratory.intrinsic+json": {
              "type": "string"
            }
          },
          "metadata": {},
          "execution_count": 50
        }
      ]
    },
    {
      "cell_type": "markdown",
      "source": [
        "# 排版JSON"
      ],
      "metadata": {
        "id": "IWdcYdoYFAnD"
      }
    },
    {
      "cell_type": "code",
      "source": [
        "# 自動排版\n",
        "\n",
        "import json  # 加在檔案開頭\n",
        "\n",
        "# 在 print(result) 改成這樣：\n",
        "parsed = json.loads(response.text)\n",
        "print(json.dumps(parsed, indent=2))"
      ],
      "metadata": {
        "colab": {
          "base_uri": "https://localhost:8080/"
        },
        "id": "lN2A-3k9T41k",
        "outputId": "99fcc204-ed3d-4f9a-8775-dafd8c4dd407"
      },
      "execution_count": null,
      "outputs": [
        {
          "output_type": "stream",
          "name": "stdout",
          "text": [
            "{\n",
            "  \"code\": 0,\n",
            "  \"msg\": \"\",\n",
            "  \"data\": [\n",
            "    {\n",
            "      \"userId\": \"1049889271413661698\",\n",
            "      \"asset\": \"USDT\",\n",
            "      \"balance\": \"0.1568\",\n",
            "      \"equity\": \"0.1568\",\n",
            "      \"unrealizedProfit\": \"0.0000\",\n",
            "      \"realisedProfit\": \"0\",\n",
            "      \"availableMargin\": \"0.1568\",\n",
            "      \"usedMargin\": \"0.0000\",\n",
            "      \"freezedMargin\": \"0.0000\",\n",
            "      \"shortUid\": \"8883392\"\n",
            "    },\n",
            "    {\n",
            "      \"userId\": \"1049889271413661698\",\n",
            "      \"asset\": \"USDC\",\n",
            "      \"balance\": \"0.0003\",\n",
            "      \"equity\": \"0.0003\",\n",
            "      \"unrealizedProfit\": \"0.0000\",\n",
            "      \"realisedProfit\": \"0\",\n",
            "      \"availableMargin\": \"0.0003\",\n",
            "      \"usedMargin\": \"0.0000\",\n",
            "      \"freezedMargin\": \"0.0000\",\n",
            "      \"shortUid\": \"8883392\"\n",
            "    }\n",
            "  ]\n",
            "}\n"
          ]
        }
      ]
    },
    {
      "cell_type": "markdown",
      "source": [
        "# 紀錄"
      ],
      "metadata": {
        "id": "jHiuTnC1FDmr"
      }
    },
    {
      "cell_type": "code",
      "source": [
        "# V3 catch the forever USDT Order site.\n",
        "# USDT and USDC both OK"
      ],
      "metadata": {
        "id": "90WLcmuHUMMU"
      },
      "execution_count": null,
      "outputs": []
    },
    {
      "cell_type": "code",
      "source": [
        "# STU"
      ],
      "metadata": {
        "id": "mr0hgRxAFtM7"
      },
      "execution_count": null,
      "outputs": []
    }
  ]
}
