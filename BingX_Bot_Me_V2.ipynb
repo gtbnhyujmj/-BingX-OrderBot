{
  "nbformat": 4,
  "nbformat_minor": 0,
  "metadata": {
    "colab": {
      "provenance": [],
      "authorship_tag": "ABX9TyOTtN2J2ui41lIByV3uBUx9",
      "include_colab_link": true
    },
    "kernelspec": {
      "name": "python3",
      "display_name": "Python 3"
    },
    "language_info": {
      "name": "python"
    }
  },
  "cells": [
    {
      "cell_type": "markdown",
      "metadata": {
        "id": "view-in-github",
        "colab_type": "text"
      },
      "source": [
        "<a href=\"https://colab.research.google.com/github/gtbnhyujmj/BingX_Auto_Order/blob/main/BingX_Bot_Me_V2.ipynb\" target=\"_parent\"><img src=\"https://colab.research.google.com/assets/colab-badge.svg\" alt=\"Open In Colab\"/></a>"
      ]
    },
    {
      "cell_type": "code",
      "execution_count": null,
      "metadata": {
        "collapsed": true,
        "id": "TglJJ91tNrlF"
      },
      "outputs": [],
      "source": [
        "# pip install requests"
      ]
    },
    {
      "cell_type": "code",
      "source": [
        "import time                # 引入時間模組，用來取得現在時間\n",
        "import requests              # 引入requests模組，讓我們可以發送網路請求\n",
        "import hmac                # 引入hmac模組，幫忙做簽名加密\n",
        "from hashlib import sha256        # 引入sha256加密演算法"
      ],
      "metadata": {
        "id": "Ia_SmysTN0R4"
      },
      "execution_count": null,
      "outputs": []
    },
    {
      "cell_type": "markdown",
      "source": [
        "# V2"
      ],
      "metadata": {
        "id": "AV6ke8TZg3cb"
      }
    },
    {
      "cell_type": "code",
      "source": [
        "def demo():\n",
        "    # 這個函式示範怎麼叫API查帳戶餘額\n",
        "    path = 'https://open-api.bingx.com/openApi/swap/v2/user/balance'      # API的路徑 V2\n",
        "    method = \"GET\"                               # 用GET方法請求資料\n",
        "\n",
        "    # A = params[\"recvWindow\"]\n",
        "    # B = params[\"timestamp\"]\n",
        "\n",
        "    # params_str = \"recvWindow=\" + A + \"&\" + \"timestamp=\" + B   # 把字典格式的參數變成字串\n",
        "\n",
        "    return method, path, # params_str  # 呼叫發送請求的函式，並回傳結果\n",
        "\n",
        "method, path = demo()\n",
        "demo()"
      ],
      "metadata": {
        "colab": {
          "base_uri": "https://localhost:8080/"
        },
        "id": "af2uGnC8N2FP",
        "outputId": "0f787b61-086f-4051-f6ab-de093919ac65"
      },
      "execution_count": null,
      "outputs": [
        {
          "output_type": "execute_result",
          "data": {
            "text/plain": [
              "('GET', 'https://open-api.bingx.com/openApi/swap/v2/user/balance')"
            ]
          },
          "metadata": {},
          "execution_count": 85
        }
      ]
    },
    {
      "cell_type": "markdown",
      "source": [
        "# Params"
      ],
      "metadata": {
        "id": "A968HLfxg7Ks"
      }
    },
    {
      "cell_type": "code",
      "source": [
        "params = {\n",
        "        \"recvWindow\": \"60000\",                    # 允許的請求時間誤差，60秒（毫秒）\n",
        "        \"timestamp\": str(int(time.time() * 1000))          # 現在時間戳記（毫秒），用來驗證請求有效\n",
        "    }"
      ],
      "metadata": {
        "id": "M8kPcDstg7gL"
      },
      "execution_count": null,
      "outputs": []
    },
    {
      "cell_type": "markdown",
      "source": [
        "# 排序後連結成URL的後半部"
      ],
      "metadata": {
        "id": "bZqxpzB1g_Fz"
      }
    },
    {
      "cell_type": "code",
      "source": [
        "def format_params(params):\n",
        "    # >>> 這個函式把參數排好序，然後組成a=1&b=2這樣的字串\n",
        "\n",
        "    keys = sorted(params.keys())  # 把參數的鍵排序\n",
        "\n",
        "    # 建立一個空清單準備放字串\n",
        "    param_list = []\n",
        "    for key in keys:\n",
        "        # 這裡用簡單字串串接，把key跟value串成 \"key=value\" 的形式\n",
        "        param_list.append(key + \"=\" + params[key])\n",
        "\n",
        "    # 用 & 把所有參數連起來\n",
        "    return \"&\".join(param_list)\n",
        "\n",
        "final_paramas = format_params(params)\n",
        "format_params(params)  ## 這個就是網頁上的 params_str = 把參數排好序，然後組成a=1&b=2這樣的字串"
      ],
      "metadata": {
        "colab": {
          "base_uri": "https://localhost:8080/",
          "height": 35
        },
        "id": "5qKO_FOhN4IH",
        "outputId": "fe661a8b-7d21-4c17-c463-21cf16e4f3e5"
      },
      "execution_count": null,
      "outputs": [
        {
          "output_type": "execute_result",
          "data": {
            "text/plain": [
              "'recvWindow=60000&timestamp=1747285369087'"
            ],
            "application/vnd.google.colaboratory.intrinsic+json": {
              "type": "string"
            }
          },
          "metadata": {},
          "execution_count": 86
        }
      ]
    },
    {
      "cell_type": "markdown",
      "source": [
        "# 密鑰"
      ],
      "metadata": {
        "id": "CFMuRZ2nhLMD"
      }
    },
    {
      "cell_type": "code",
      "source": [
        "SECRETKEY = \"\""
      ],
      "metadata": {
        "id": "O2wp7eMzhLd8"
      },
      "execution_count": null,
      "outputs": []
    },
    {
      "cell_type": "markdown",
      "source": [
        "# 創造簽證"
      ],
      "metadata": {
        "id": "gpDMegoShQXj"
      }
    },
    {
      "cell_type": "code",
      "source": [
        "def get_signature(secret, message): # message = 上面處理好的字串\n",
        "    # 這裡用HMAC-SHA256演算法，根據密鑰跟參數字串做簽名\n",
        "\n",
        "    sign = hmac.new(secret.encode(), message.encode(), sha256).hexdigest()\n",
        "    # print(\"簽名:\", sign)      # 印出簽名結果方便檢查\n",
        "    return sign           # 回傳簽名字串\n",
        "\n",
        "sign = get_signature(SECRETKEY, final_paramas)\n",
        "get_signature(SECRETKEY, final_paramas)\n",
        "# print(\"簽名:\", get_signature)"
      ],
      "metadata": {
        "colab": {
          "base_uri": "https://localhost:8080/",
          "height": 35
        },
        "id": "z3S1gAFdN6VX",
        "outputId": "7066ea8e-5650-44e8-c972-613fdaddb2d5"
      },
      "execution_count": null,
      "outputs": [
        {
          "output_type": "execute_result",
          "data": {
            "text/plain": [
              "'707f6ebbe16c2478c3c6bd79644853351032f96b732f9180c673d5c0c7df4fa2'"
            ],
            "application/vnd.google.colaboratory.intrinsic+json": {
              "type": "string"
            }
          },
          "metadata": {},
          "execution_count": 87
        }
      ]
    },
    {
      "cell_type": "markdown",
      "source": [
        "# 串成完整的URL"
      ],
      "metadata": {
        "id": "qXniLSKOhWpD"
      }
    },
    {
      "cell_type": "code",
      "source": [
        "# 把完整網址組合起來（字串串接方式）\n",
        "url = path + \"?\" + final_paramas + \"&signature=\" + sign\n",
        "\n",
        "# url"
      ],
      "metadata": {
        "colab": {
          "base_uri": "https://localhost:8080/",
          "height": 35
        },
        "id": "kF5xOUDpN8Df",
        "outputId": "6067a8c7-e932-4fe7-cbdd-550474b935da"
      },
      "execution_count": null,
      "outputs": [
        {
          "output_type": "execute_result",
          "data": {
            "text/plain": [
              "'https://open-api.bingx.com/openApi/swap/v2/user/balance?recvWindow=60000&timestamp=1747285369087&signature=707f6ebbe16c2478c3c6bd79644853351032f96b732f9180c673d5c0c7df4fa2'"
            ],
            "application/vnd.google.colaboratory.intrinsic+json": {
              "type": "string"
            }
          },
          "metadata": {},
          "execution_count": 88
        }
      ]
    },
    {
      "cell_type": "markdown",
      "source": [
        "# 用公鑰組成Headers"
      ],
      "metadata": {
        "id": "_n_AfMLIhddz"
      }
    },
    {
      "cell_type": "code",
      "source": [
        "# 設定HTTP請求的標頭，把APIKEY放進去\n",
        "\n",
        "APIKEY = \"\""
      ],
      "metadata": {
        "id": "dSkMDL7uN9m3"
      },
      "execution_count": null,
      "outputs": []
    },
    {
      "cell_type": "code",
      "source": [
        "headers = {\n",
        "        'X-BX-APIKEY': APIKEY\n",
        "    }"
      ],
      "metadata": {
        "id": "zSOyLSmehjZT"
      },
      "execution_count": null,
      "outputs": []
    },
    {
      "cell_type": "markdown",
      "source": [
        "# 接收資料"
      ],
      "metadata": {
        "id": "l7uUO4I0hlls"
      }
    },
    {
      "cell_type": "code",
      "source": [
        "# 用requests送出HTTP請求\n",
        "# method = GET, 函數上面有\n",
        "\n",
        "response = requests.request(method, url, headers=headers)\n",
        "response.status_code"
      ],
      "metadata": {
        "colab": {
          "base_uri": "https://localhost:8080/"
        },
        "id": "ateJUW_6N-8-",
        "outputId": "4317b376-2715-4958-81e0-9f08f2efe091"
      },
      "execution_count": null,
      "outputs": [
        {
          "output_type": "execute_result",
          "data": {
            "text/plain": [
              "200"
            ]
          },
          "metadata": {},
          "execution_count": 90
        }
      ]
    },
    {
      "cell_type": "markdown",
      "source": [
        "# 列印JSON"
      ],
      "metadata": {
        "id": "mpfo_fnYholc"
      }
    },
    {
      "cell_type": "code",
      "source": [
        "response = requests.request(method, url, headers=headers)\n",
        "response.text"
      ],
      "metadata": {
        "colab": {
          "base_uri": "https://localhost:8080/",
          "height": 52
        },
        "id": "7Z2kCla1OmVH",
        "outputId": "74dd16c8-a798-47bc-e13e-7e4de22d2b4a"
      },
      "execution_count": null,
      "outputs": [
        {
          "output_type": "execute_result",
          "data": {
            "text/plain": [
              "'{\"code\":0,\"msg\":\"\",\"data\":{\"balance\":{\"userId\":\"1049889271413661698\",\"asset\":\"USDT\",\"balance\":\"0.1568\",\"equity\":\"0.1568\",\"unrealizedProfit\":\"0.0000\",\"realisedProfit\":\"0\",\"availableMargin\":\"0.1568\",\"usedMargin\":\"0.0000\",\"freezedMargin\":\"0.0000\",\"shortUid\":\"8883392\"}}}'"
            ],
            "application/vnd.google.colaboratory.intrinsic+json": {
              "type": "string"
            }
          },
          "metadata": {},
          "execution_count": 91
        }
      ]
    },
    {
      "cell_type": "code",
      "source": [
        "# 自動排版\n",
        "\n",
        "import json  # 加在檔案開頭\n",
        "\n",
        "# 在 print(result) 改成這樣：\n",
        "parsed = json.loads(response.text)\n",
        "print(json.dumps(parsed, indent=2))"
      ],
      "metadata": {
        "colab": {
          "base_uri": "https://localhost:8080/"
        },
        "id": "Y_cC2miIOsF3",
        "outputId": "e47bd522-7ade-4021-cb86-c39745f7ebbe"
      },
      "execution_count": null,
      "outputs": [
        {
          "output_type": "stream",
          "name": "stdout",
          "text": [
            "{\n",
            "  \"code\": 0,\n",
            "  \"msg\": \"\",\n",
            "  \"data\": {\n",
            "    \"balance\": {\n",
            "      \"userId\": \"1049889271413661698\",\n",
            "      \"asset\": \"USDT\",\n",
            "      \"balance\": \"0.1568\",\n",
            "      \"equity\": \"0.1568\",\n",
            "      \"unrealizedProfit\": \"0.0000\",\n",
            "      \"realisedProfit\": \"0\",\n",
            "      \"availableMargin\": \"0.1568\",\n",
            "      \"usedMargin\": \"0.0000\",\n",
            "      \"freezedMargin\": \"0.0000\",\n",
            "      \"shortUid\": \"8883392\"\n",
            "    }\n",
            "  }\n",
            "}\n"
          ]
        }
      ]
    },
    {
      "cell_type": "markdown",
      "source": [
        "# 紀錄"
      ],
      "metadata": {
        "id": "53EARPB-hrMT"
      }
    },
    {
      "cell_type": "code",
      "source": [
        "# \"asset\": \"USDT\",\n",
        "# \"balance\": \"0.1568\",\n",
        "\n",
        "# 這個跟永續U合約的資料是符合的 USDT = 0.15684562\n",
        "# 理財帳戶跟標準合約 BX那邊不開放 所以沒資料也合理\n",
        "\n",
        "# 我把USDC轉進去看看數字會不會改變\n",
        "# 沒有 可是USDC是永續U本位捏 怪怪的\n",
        "\n",
        "# 把USDT轉出0.1U看看\n",
        "# 2025/05/15 成功 >>> 資料變成0.0568U  >>> APP show 0.05684562\n",
        "\n",
        "# V2 API OK"
      ],
      "metadata": {
        "id": "9lw71nN3P6lG"
      },
      "execution_count": null,
      "outputs": []
    },
    {
      "cell_type": "code",
      "source": [
        "# STU"
      ],
      "metadata": {
        "id": "75Pe1ktIhs6K"
      },
      "execution_count": null,
      "outputs": []
    }
  ]
}