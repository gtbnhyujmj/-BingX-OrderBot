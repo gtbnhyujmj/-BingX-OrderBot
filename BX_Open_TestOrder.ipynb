{
  "nbformat": 4,
  "nbformat_minor": 0,
  "metadata": {
    "colab": {
      "provenance": [],
      "authorship_tag": "ABX9TyPWHo4xF8PGGQgj3eDx5jkt",
      "include_colab_link": true
    },
    "kernelspec": {
      "name": "python3",
      "display_name": "Python 3"
    },
    "language_info": {
      "name": "python"
    }
  },
  "cells": [
    {
      "cell_type": "markdown",
      "metadata": {
        "id": "view-in-github",
        "colab_type": "text"
      },
      "source": [
        "<a href=\"https://colab.research.google.com/github/gtbnhyujmj/BingX_Auto_Order/blob/main/BX_Open_TestOrder.ipynb\" target=\"_parent\"><img src=\"https://colab.research.google.com/assets/colab-badge.svg\" alt=\"Open In Colab\"/></a>"
      ]
    },
    {
      "cell_type": "code",
      "execution_count": null,
      "metadata": {
        "id": "kamVMmd7JVc6"
      },
      "outputs": [],
      "source": [
        "import time\n",
        "import requests\n",
        "import hmac\n",
        "import hashlib"
      ]
    },
    {
      "cell_type": "markdown",
      "source": [
        "# KEY"
      ],
      "metadata": {
        "id": "V6QynQ-aBUNt"
      }
    },
    {
      "cell_type": "code",
      "source": [
        "APIURL = \"https://open-api.bingx.com\"\n",
        "\n",
        "# <-- 請輸入你的 API KEY\n",
        "APIKEY = \"\"\n",
        "SECRETKEY = \"\"  # <-- 請輸入你的 SECRET KEY"
      ],
      "metadata": {
        "id": "9ESd9LVuNTgz"
      },
      "execution_count": null,
      "outputs": []
    },
    {
      "cell_type": "markdown",
      "source": [
        "# Make Params"
      ],
      "metadata": {
        "id": "RMbzOptOBW2E"
      }
    },
    {
      "cell_type": "code",
      "source": [
        "method = \"POST\"\n",
        "path = \"/openApi/swap/v2/trade/order/test\""
      ],
      "metadata": {
        "id": "7e6aXb4XNU47"
      },
      "execution_count": null,
      "outputs": []
    },
    {
      "cell_type": "code",
      "source": [
        "symbol = \"BTC-USDT\"\n",
        "side = \"BUY\"\n",
        "positionSide = \"LONG\"\n",
        "type_order = \"MARKET\"\n",
        "quantity = 5\n",
        "takeProfit = \"{\\\"type\\\": \\\"TAKE_PROFIT_MARKET\\\", \\\"stopPrice\\\": 31968.0,\\\"price\\\": 31968.0,\\\"workingType\\\":\\\"MARK_PRICE\\\"}\""
      ],
      "metadata": {
        "id": "DGoXaDKBNWYk"
      },
      "execution_count": null,
      "outputs": []
    },
    {
      "cell_type": "code",
      "source": [
        "timestamp = str(int(time.time() * 1000))"
      ],
      "metadata": {
        "id": "C8VQvbl5NbW7"
      },
      "execution_count": null,
      "outputs": []
    },
    {
      "cell_type": "code",
      "source": [
        "param_list = []\n",
        "param_list.append(\"positionSide=\" + positionSide)\n",
        "param_list.append(\"quantity=\" + str(quantity))\n",
        "param_list.append(\"side=\" + side)\n",
        "param_list.append(\"symbol=\" + symbol)\n",
        "param_list.append(\"takeProfit=\" + takeProfit)\n",
        "param_list.append(\"type=\" + type_order)\n",
        "param_list.append(\"timestamp=\" + timestamp)"
      ],
      "metadata": {
        "id": "zrzTcQ7iNdbz"
      },
      "execution_count": null,
      "outputs": []
    },
    {
      "cell_type": "markdown",
      "source": [
        "# Sort Params"
      ],
      "metadata": {
        "id": "JaNAKwcOBeUd"
      }
    },
    {
      "cell_type": "code",
      "source": [
        "param_list.sort()\n",
        "paramsStr = \"&\".join(param_list)"
      ],
      "metadata": {
        "id": "VuzXEJHeNeaq"
      },
      "execution_count": null,
      "outputs": []
    },
    {
      "cell_type": "markdown",
      "source": [
        "# Make Signature"
      ],
      "metadata": {
        "id": "ndgzVi2ABjyt"
      }
    },
    {
      "cell_type": "code",
      "source": [
        "sign = hmac.new(SECRETKEY.encode(\"utf-8\"), paramsStr.encode(\"utf-8\"), digestmod=hashlib.sha256).hexdigest()"
      ],
      "metadata": {
        "id": "QSfv1YjVNhE7"
      },
      "execution_count": null,
      "outputs": []
    },
    {
      "cell_type": "markdown",
      "source": [
        "# 組裝成網址"
      ],
      "metadata": {
        "id": "gGM9RV2aBo_t"
      }
    },
    {
      "cell_type": "code",
      "source": [
        "url = APIURL + path + \"?\" + paramsStr + \"&signature=\" + sign"
      ],
      "metadata": {
        "id": "zH3sFAhyNjBz"
      },
      "execution_count": null,
      "outputs": []
    },
    {
      "cell_type": "markdown",
      "source": [
        "# 製作 Headers"
      ],
      "metadata": {
        "id": "LIVJERKRCLFc"
      }
    },
    {
      "cell_type": "code",
      "source": [
        "headers = {}\n",
        "headers[\"X-BX-APIKEY\"] = APIKEY"
      ],
      "metadata": {
        "id": "J5ozd-hGNj5r"
      },
      "execution_count": null,
      "outputs": []
    },
    {
      "cell_type": "markdown",
      "source": [
        "# 接收伺服器結果並存入Response裡面"
      ],
      "metadata": {
        "id": "nJxElwPzCOOt"
      }
    },
    {
      "cell_type": "code",
      "source": [
        "response = requests.request(method, url, headers=headers, data={})"
      ],
      "metadata": {
        "id": "454EqTAwNlCb"
      },
      "execution_count": null,
      "outputs": []
    },
    {
      "cell_type": "markdown",
      "source": [
        "# 列印 伺服器結果"
      ],
      "metadata": {
        "id": "dDRBAoIyBtik"
      }
    },
    {
      "cell_type": "code",
      "source": [
        "print(response.text)"
      ],
      "metadata": {
        "colab": {
          "base_uri": "https://localhost:8080/"
        },
        "id": "DqZCi7uHNmXq",
        "outputId": "9c022265-d20a-450d-83fc-3b2c6e67f92c"
      },
      "execution_count": null,
      "outputs": [
        {
          "output_type": "stream",
          "name": "stdout",
          "text": [
            "{\"code\":0,\"msg\":\"\",\"data\":{\"order\":{\"orderId\":5415714397753689732,\"orderID\":\"\",\"symbol\":\"BTC-USDT\",\"positionSide\":\"LONG\",\"side\":\"BUY\",\"type\":\"MARKET\",\"price\":0,\"quantity\":5,\"stopPrice\":0,\"workingType\":\"\",\"clientOrderID\":\"\",\"clientOrderId\":\"\",\"timeInForce\":\"\",\"priceRate\":0,\"stopLoss\":\"\",\"takeProfit\":\"{\\\"type\\\": \\\"TAKE_PROFIT_MARKET\\\", \\\"stopPrice\\\": 31968.0,\\\"price\\\": 31968.0,\\\"workingType\\\":\\\"MARK_PRICE\\\"}\",\"reduceOnly\":false,\"activationPrice\":0,\"closePosition\":\"\",\"stopGuaranteed\":\"\",\"status\":\"\",\"avgPrice\":\"\"}}}\n"
          ]
        }
      ]
    },
    {
      "cell_type": "markdown",
      "source": [
        "# 下次要做啥?"
      ],
      "metadata": {
        "id": "hWUidJKQBxGE"
      }
    },
    {
      "cell_type": "code",
      "source": [
        "# 這個是測試用程式\n",
        "# 都真的開倉成功了 這個就沒啥意義了"
      ],
      "metadata": {
        "id": "cTTzIXNKBywN"
      },
      "execution_count": null,
      "outputs": []
    },
    {
      "cell_type": "code",
      "source": [
        "# STU"
      ],
      "metadata": {
        "id": "Nyf-anqDB670"
      },
      "execution_count": null,
      "outputs": []
    }
  ]
}