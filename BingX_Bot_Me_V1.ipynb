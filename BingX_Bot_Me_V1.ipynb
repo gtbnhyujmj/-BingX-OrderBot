{
  "nbformat": 4,
  "nbformat_minor": 0,
  "metadata": {
    "colab": {
      "provenance": [],
      "authorship_tag": "ABX9TyMJPuoWpqGjaOVV7I6khcv+",
      "include_colab_link": true
    },
    "kernelspec": {
      "name": "python3",
      "display_name": "Python 3"
    },
    "language_info": {
      "name": "python"
    }
  },
  "cells": [
    {
      "cell_type": "markdown",
      "metadata": {
        "id": "view-in-github",
        "colab_type": "text"
      },
      "source": [
        "<a href=\"https://colab.research.google.com/github/gtbnhyujmj/BingX_Auto_Order/blob/main/BingX_Bot_Me_V1.ipynb\" target=\"_parent\"><img src=\"https://colab.research.google.com/assets/colab-badge.svg\" alt=\"Open In Colab\"/></a>"
      ]
    },
    {
      "cell_type": "code",
      "execution_count": null,
      "metadata": {
        "collapsed": true,
        "id": "lxg0Q0x2Epr5"
      },
      "outputs": [],
      "source": [
        "# pip install requests"
      ]
    },
    {
      "cell_type": "markdown",
      "source": [
        "# 公鑰與密鑰"
      ],
      "metadata": {
        "id": "XQywrMjui_ay"
      }
    },
    {
      "cell_type": "code",
      "source": [
        "APIKEY = \"\"\n",
        "SECRETKEY = \"\""
      ],
      "metadata": {
        "id": "JUNNG3emE4O8"
      },
      "execution_count": null,
      "outputs": []
    },
    {
      "cell_type": "markdown",
      "source": [
        "# 套件"
      ],
      "metadata": {
        "id": "IJWMeZ1PFDVz"
      }
    },
    {
      "cell_type": "code",
      "source": [
        "import time                # 引入時間模組，用來取得現在時間\n",
        "import requests              # 引入requests模組，讓我們可以發送網路請求\n",
        "import hmac                # 引入hmac模組，幫忙做簽名加密\n",
        "from hashlib import sha256        # 引入sha256加密演算法"
      ],
      "metadata": {
        "id": "kwwgkoL8FCpT"
      },
      "execution_count": null,
      "outputs": []
    },
    {
      "cell_type": "markdown",
      "source": [
        "# 定義主程式"
      ],
      "metadata": {
        "id": "j3JkbV4hjNaq"
      }
    },
    {
      "cell_type": "code",
      "source": [
        "def demo():\n",
        "    # 這個函式示範怎麼叫API查帳戶餘額\n",
        "    path = 'https://open-api.bingx.com/openApi/spot/v1/account/balance'     # API的路徑 V1\n",
        "    method = \"GET\"                                # 用GET方法請求資料\n",
        "\n",
        "    # A = params[\"recvWindow\"]\n",
        "    # B = params[\"timestamp\"]\n",
        "\n",
        "    # params_str = \"recvWindow=\" + A + \"&\" + \"timestamp=\" + B   # 把字典格式的參數變成字串\n",
        "\n",
        "    return method, path, # params_str  # 呼叫發送請求的函式，並回傳結果\n",
        "\n",
        "method, path = demo()\n",
        "demo()"
      ],
      "metadata": {
        "colab": {
          "base_uri": "https://localhost:8080/"
        },
        "id": "QYp1s9ioFrLD",
        "outputId": "f58073ca-6d21-468f-ee2a-11b8a4f576cb"
      },
      "execution_count": null,
      "outputs": [
        {
          "output_type": "execute_result",
          "data": {
            "text/plain": [
              "('GET', 'https://open-api.bingx.com/openApi/spot/v1/account/balance')"
            ]
          },
          "metadata": {},
          "execution_count": 177
        }
      ]
    },
    {
      "cell_type": "markdown",
      "source": [
        "# Params"
      ],
      "metadata": {
        "id": "qDrT-Q4yjSAK"
      }
    },
    {
      "cell_type": "code",
      "source": [
        "params = {\n",
        "        \"recvWindow\": \"60000\",                    # 允許的請求時間誤差，60秒（毫秒）\n",
        "        \"timestamp\": str(int(time.time() * 1000))          # 現在時間戳記（毫秒），用來驗證請求有效\n",
        "    }"
      ],
      "metadata": {
        "id": "Fb2gDhOajROy"
      },
      "execution_count": null,
      "outputs": []
    },
    {
      "cell_type": "markdown",
      "source": [
        "# 黏貼Params"
      ],
      "metadata": {
        "id": "rYQfxXX0jZ96"
      }
    },
    {
      "cell_type": "code",
      "source": [
        "def format_params(params):\n",
        "    # >>> 這個函式把參數排好序，然後組成a=1&b=2這樣的字串\n",
        "\n",
        "    keys = sorted(params.keys())  # 把參數的鍵排序\n",
        "\n",
        "    # 建立一個空清單準備放字串\n",
        "    param_list = []\n",
        "    for key in keys:\n",
        "        # 這裡用簡單字串串接，把key跟value串成 \"key=value\" 的形式\n",
        "        param_list.append(key + \"=\" + params[key])\n",
        "\n",
        "    # 用 & 把所有參數連起來\n",
        "    return \"&\".join(param_list)\n",
        "\n",
        "final_paramas = format_params(params)\n",
        "format_params(params)  ## 這個就是網頁上的 params_str = 把參數排好序，然後組成a=1&b=2這樣的字串"
      ],
      "metadata": {
        "colab": {
          "base_uri": "https://localhost:8080/",
          "height": 35
        },
        "id": "hp3sBLsWHCc0",
        "outputId": "eb611cd1-53b7-4904-ec10-fb00417862b5"
      },
      "execution_count": null,
      "outputs": [
        {
          "output_type": "execute_result",
          "data": {
            "text/plain": [
              "'recvWindow=60000&timestamp=1747285392505'"
            ],
            "application/vnd.google.colaboratory.intrinsic+json": {
              "type": "string"
            }
          },
          "metadata": {},
          "execution_count": 178
        }
      ]
    },
    {
      "cell_type": "markdown",
      "source": [
        "# 密鑰"
      ],
      "metadata": {
        "id": "DW0OAoAlHuiy"
      }
    },
    {
      "cell_type": "code",
      "source": [
        "SECRETKEY = \"\""
      ],
      "metadata": {
        "id": "jazFQPFWjnWi"
      },
      "execution_count": null,
      "outputs": []
    },
    {
      "cell_type": "markdown",
      "source": [
        "# 用密鑰簽證"
      ],
      "metadata": {
        "id": "4ZpQ-HbSjowp"
      }
    },
    {
      "cell_type": "code",
      "source": [
        "def get_signature(secret, message): # message = 上面處理好的字串\n",
        "    # 這裡用HMAC-SHA256演算法，根據密鑰跟參數字串做簽名\n",
        "\n",
        "    sign = hmac.new(secret.encode(), message.encode(), sha256).hexdigest()\n",
        "    # print(\"簽名:\", sign)      # 印出簽名結果方便檢查\n",
        "    return sign           # 回傳簽名字串\n",
        "\n",
        "sign = get_signature(SECRETKEY, final_paramas)\n",
        "get_signature(SECRETKEY, final_paramas)\n",
        "# print(\"簽名:\", get_signature)"
      ],
      "metadata": {
        "colab": {
          "base_uri": "https://localhost:8080/",
          "height": 35
        },
        "id": "Erm82NMgHsjC",
        "outputId": "8b1d7b76-5be5-46d1-f2da-c742616face5"
      },
      "execution_count": null,
      "outputs": [
        {
          "output_type": "execute_result",
          "data": {
            "text/plain": [
              "'0923a2bb14fa4e1ff0d6f6736ad5c65505fad37bd94ffc60e6eb9c053598f6ac'"
            ],
            "application/vnd.google.colaboratory.intrinsic+json": {
              "type": "string"
            }
          },
          "metadata": {},
          "execution_count": 179
        }
      ]
    },
    {
      "cell_type": "markdown",
      "source": [
        "# 組合成完整網址"
      ],
      "metadata": {
        "id": "ZGlFFNRKJ9FJ"
      }
    },
    {
      "cell_type": "code",
      "source": [
        "# 把完整網址組合起來（字串串接方式）\n",
        "url = path + \"?\" + final_paramas + \"&signature=\" + sign\n",
        "\n",
        "# url"
      ],
      "metadata": {
        "colab": {
          "base_uri": "https://localhost:8080/",
          "height": 35
        },
        "id": "NU6b86kbJ8Ei",
        "outputId": "11edeff0-4783-4c93-d9f8-eddb16f7d281"
      },
      "execution_count": null,
      "outputs": [
        {
          "output_type": "execute_result",
          "data": {
            "text/plain": [
              "'https://open-api.bingx.com/openApi/spot/v1/account/balance?recvWindow=60000&timestamp=1747285392505&signature=0923a2bb14fa4e1ff0d6f6736ad5c65505fad37bd94ffc60e6eb9c053598f6ac'"
            ],
            "application/vnd.google.colaboratory.intrinsic+json": {
              "type": "string"
            }
          },
          "metadata": {},
          "execution_count": 180
        }
      ]
    },
    {
      "cell_type": "markdown",
      "source": [
        "# 用公鑰設定標頭"
      ],
      "metadata": {
        "id": "eqJXfa5wKbjo"
      }
    },
    {
      "cell_type": "code",
      "source": [
        "APIKEY = \"\""
      ],
      "metadata": {
        "id": "vpm0uUKPj6C5"
      },
      "execution_count": null,
      "outputs": []
    },
    {
      "cell_type": "code",
      "source": [
        "# 設定HTTP請求的標頭，把APIKEY放進去\n",
        "headers = {\n",
        "        'X-BX-APIKEY': APIKEY\n",
        "    }"
      ],
      "metadata": {
        "id": "-KSguSaMJSX5"
      },
      "execution_count": null,
      "outputs": []
    },
    {
      "cell_type": "markdown",
      "source": [
        "# 請求伺服器與取得回音"
      ],
      "metadata": {
        "id": "zF-dhQroj89J"
      }
    },
    {
      "cell_type": "code",
      "source": [
        "# 用requests送出HTTP請求\n",
        "# method = GET, 函數上面有\n",
        "\n",
        "response = requests.request(method, url, headers=headers)\n",
        "response.status_code"
      ],
      "metadata": {
        "colab": {
          "base_uri": "https://localhost:8080/"
        },
        "id": "CbAPLEFTKjBh",
        "outputId": "cf00b567-ce98-46bb-b020-23e5fec451b8"
      },
      "execution_count": null,
      "outputs": [
        {
          "output_type": "execute_result",
          "data": {
            "text/plain": [
              "200"
            ]
          },
          "metadata": {},
          "execution_count": 182
        }
      ]
    },
    {
      "cell_type": "markdown",
      "source": [
        "# 列印JSON"
      ],
      "metadata": {
        "id": "i88EraNKkBK6"
      }
    },
    {
      "cell_type": "code",
      "source": [
        "response = requests.request(method, url, headers=headers)\n",
        "response.text"
      ],
      "metadata": {
        "colab": {
          "base_uri": "https://localhost:8080/",
          "height": 52
        },
        "id": "imWpCpRaKxSx",
        "outputId": "39c3dd7e-4582-4e39-c930-9a873a41ac1d"
      },
      "execution_count": null,
      "outputs": [
        {
          "output_type": "execute_result",
          "data": {
            "text/plain": [
              "'{\"code\":0,\"msg\":\"\",\"debugMsg\":\"\",\"data\":{\"balances\":[{\"asset\":\"USDT\",\"disPlayName\":\"USDT\",\"free\":\"3.4371838e-10\",\"locked\":\"0\"},{\"asset\":\"USDC\",\"disPlayName\":\"USDC\",\"free\":\"0\",\"locked\":\"0\"},{\"asset\":\"LINA\",\"disPlayName\":\"LINA\",\"free\":\"0\",\"locked\":\"0\"},{\"asset\":\"ETH\",\"disPlayName\":\"ETH\",\"free\":\"0\",\"locked\":\"0\"},{\"asset\":\"POL\",\"disPlayName\":\"POL\",\"free\":\"0\",\"locked\":\"0\"}]}}'"
            ],
            "application/vnd.google.colaboratory.intrinsic+json": {
              "type": "string"
            }
          },
          "metadata": {},
          "execution_count": 183
        }
      ]
    },
    {
      "cell_type": "code",
      "source": [
        "# 自動排版\n",
        "\n",
        "import json  # 加在檔案開頭\n",
        "\n",
        "# 在 print(result) 改成這樣：\n",
        "parsed = json.loads(response.text)\n",
        "print(json.dumps(parsed, indent=2))"
      ],
      "metadata": {
        "colab": {
          "base_uri": "https://localhost:8080/"
        },
        "id": "PbFep4ynMVeJ",
        "outputId": "8d89fdc7-4c66-452d-cc4c-d3cd5e187082"
      },
      "execution_count": null,
      "outputs": [
        {
          "output_type": "stream",
          "name": "stdout",
          "text": [
            "{\n",
            "  \"code\": 0,\n",
            "  \"msg\": \"\",\n",
            "  \"debugMsg\": \"\",\n",
            "  \"data\": {\n",
            "    \"balances\": [\n",
            "      {\n",
            "        \"asset\": \"USDT\",\n",
            "        \"disPlayName\": \"USDT\",\n",
            "        \"free\": \"3.4371838e-10\",\n",
            "        \"locked\": \"0\"\n",
            "      },\n",
            "      {\n",
            "        \"asset\": \"USDC\",\n",
            "        \"disPlayName\": \"USDC\",\n",
            "        \"free\": \"0\",\n",
            "        \"locked\": \"0\"\n",
            "      },\n",
            "      {\n",
            "        \"asset\": \"LINA\",\n",
            "        \"disPlayName\": \"LINA\",\n",
            "        \"free\": \"0\",\n",
            "        \"locked\": \"0\"\n",
            "      },\n",
            "      {\n",
            "        \"asset\": \"ETH\",\n",
            "        \"disPlayName\": \"ETH\",\n",
            "        \"free\": \"0\",\n",
            "        \"locked\": \"0\"\n",
            "      },\n",
            "      {\n",
            "        \"asset\": \"POL\",\n",
            "        \"disPlayName\": \"POL\",\n",
            "        \"free\": \"0\",\n",
            "        \"locked\": \"0\"\n",
            "      }\n",
            "    ]\n",
            "  }\n",
            "}\n"
          ]
        }
      ]
    },
    {
      "cell_type": "markdown",
      "source": [
        "# 結論與疑惑"
      ],
      "metadata": {
        "id": "fNWoTiWckE3B"
      }
    },
    {
      "cell_type": "code",
      "source": [
        "# USDC是對的\n",
        "# USDT的數量怎麼有點少?"
      ],
      "metadata": {
        "id": "kegCJM7nNCWH"
      },
      "execution_count": null,
      "outputs": []
    },
    {
      "cell_type": "code",
      "source": [
        "# V1 是控制資金帳戶的資料\n",
        "# 從資金帳戶移動USDT會改變 而且 數字是對的\n",
        "\n",
        "# \"disPlayName\": \"USDT\",\n",
        "# \"free\": \"0.15684562034371838\",\n",
        "\n",
        "# 把U/C轉回資金帳戶有數字 數字是對的\n",
        "\n",
        "# V1 控制的是資金帳戶\n",
        "# V2 控制永續U合約 USDT OK / USDC NOT OK"
      ],
      "metadata": {
        "id": "gtUEVqaMNdT3"
      },
      "execution_count": null,
      "outputs": []
    },
    {
      "cell_type": "code",
      "source": [
        "# STU"
      ],
      "metadata": {
        "id": "vocTiwEwkHMC"
      },
      "execution_count": null,
      "outputs": []
    }
  ]
}